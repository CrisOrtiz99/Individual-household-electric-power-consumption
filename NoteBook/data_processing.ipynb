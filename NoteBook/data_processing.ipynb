{
 "cells": [
  {
   "cell_type": "code",
   "execution_count": null,
   "metadata": {},
   "outputs": [],
   "source": [
    "#paquetes a ocupar\n",
    "import numpy as np\n",
    "import pandas as pd\n",
    "import tensorflow as tf\n",
    "import matplotlib.pyplot as plt\n",
    "import datetime\n",
    "from tensorflow.keras import Model, Sequential\n",
    "from tensorflow.keras.optimizers import Adam\n",
    "from tensorflow.keras.callbacks import EarlyStopping\n",
    "from tensorflow.keras.losses import MeanSquaredError\n",
    "from tensorflow.keras.metrics import MeanAbsoluteError\n",
    "from tensorflow.keras.layers import Dense, Conv1D, LSTM, Lambda, Reshape, RNN, LSTMCell\n",
    "import warnings\n",
    "warnings.filterwarnings('ignore')\n"
   ]
  },
  {
   "cell_type": "code",
   "execution_count": null,
   "metadata": {},
   "outputs": [],
   "source": [
    "\n",
    "#Parametros para Matplotlib\n",
    "plt.rcParams['figure.figsize'] = (10, 7.5)\n",
    "plt.rcParams['axes.grid'] = False\n",
    "\n",
    "#fijar la semilla de TensorFlow y Numpy(importante para replicar los resultados)\n",
    "tf.random.set_seed(42)\n",
    "np.random.seed(42)\n",
    "\n",
    "#Datos de Consumo energeticos, en minutos\n",
    "df = pd.read_csv(r'C:\\Users\\crist\\OneDrive\\Escritorio\\archivos_MDD\\Proyecto_Final\\household_power_consumption.txt', sep=';')\n",
    "df\n"
   ]
  },
  {
   "cell_type": "code",
   "execution_count": null,
   "metadata": {},
   "outputs": [],
   "source": [
    "\n",
    "# Observación de DataFrame\n",
    "# Contabilizar datos nulos\n",
    "df.isnull().sum()\n",
    "\n",
    "# Obtener la distancia entre cada valor nulo en la columna 'Sub_metering_3'\n",
    "na_groups = df['Sub_metering_3'].notna().cumsum()[df['Sub_metering_3'].isna()]\n",
    "len_consecutive_na = na_groups.groupby(na_groups).agg(len)\n",
    "\n",
    "longest_na_gap = len_consecutive_na.max()\n",
    "longest_na_gap\n",
    "\n",
    "# Eliminar la columna 'Sub_metering_3'\n",
    "df = df.drop(['Sub_metering_3'], axis=1)\n",
    "df.head()\n"
   ]
  },
  {
   "cell_type": "code",
   "execution_count": null,
   "metadata": {},
   "outputs": [],
   "source": [
    "\n",
    "# Verificar los tipos de datos\n",
    "df.dtypes\n",
    "\n",
    "# Convertir los valores no numéricos a numéricos después de la columna 2\n",
    "cols_to_convert = df.columns[2:]\n",
    "\n",
    "df[cols_to_convert] = df[cols_to_convert].apply(pd.to_numeric, errors='coerce')\n",
    "\n",
    "# Observar que ya se transformaron todos los datos correctamente\n",
    "df.dtypes\n"
   ]
  },
  {
   "cell_type": "code",
   "execution_count": null,
   "metadata": {},
   "outputs": [],
   "source": [
    "\n",
    "# Ploteo de los datos Global active power\n",
    "fig, ax = plt.subplots(figsize=(13, 6))\n",
    "\n",
    "ax.plot(df['Global_active_power'])\n",
    "ax.set_xlabel('Timesteps (min)')\n",
    "ax.set_ylabel('Global active power (kW)')\n",
    "ax.set_xlim(0, 2880)\n",
    "\n",
    "fig.autofmt_xdate()\n",
    "plt.tight_layout()\n",
    "\n",
    "plt.savefig(r'C:\\Users\\crist\\OneDrive\\Escritorio\\archivos_MDD\\Proyecto_Final\\Imagen1.png', dpi=300)\n"
   ]
  },
  {
   "cell_type": "code",
   "execution_count": null,
   "metadata": {},
   "outputs": [],
   "source": [
    "\n",
    "# Combinar las columnas Fecha y Hora\n",
    "df.loc[:, 'datetime'] = pd.to_datetime(df.Date.astype(str) + ' ' + df.Time.astype(str))\n",
    "df = df.drop(['Date', 'Time'], axis=1)\n",
    "df.head()"
   ]
  },
  {
   "cell_type": "code",
   "execution_count": null,
   "metadata": {},
   "outputs": [],
   "source": [
    "\n",
    "\n",
    "# Cambiar el intervalo de tiempo a horas y sumar el consumo energético\n",
    "hourly_df = df.resample('H', on='datetime').sum()\n",
    "hourly_df.head()"
   ]
  },
  {
   "cell_type": "code",
   "execution_count": null,
   "metadata": {},
   "outputs": [],
   "source": [
    "\n",
    "\n",
    "# Ordenar el DataFrame\n",
    "hourly_df = hourly_df.drop(hourly_df.tail(1).index)\n",
    "hourly_df = hourly_df.drop(hourly_df.head(1).index)\n",
    "hourly_df.head()\n"
   ]
  },
  {
   "cell_type": "code",
   "execution_count": null,
   "metadata": {},
   "outputs": [],
   "source": [
    "\n",
    "# Información del DataFrame\n",
    "hourly_df.shape\n"
   ]
  },
  {
   "cell_type": "code",
   "execution_count": null,
   "metadata": {},
   "outputs": [],
   "source": [
    "\n",
    "# Resetear el índice\n",
    "hourly_df = hourly_df.reset_index()\n",
    "hourly_df.head()\n",
    "\n"
   ]
  },
  {
   "cell_type": "code",
   "execution_count": null,
   "metadata": {},
   "outputs": [],
   "source": [
    "\n",
    "# Gráfica de energía según el día con el DataFrame reseteado\n",
    "fig, ax = plt.subplots(figsize=(13, 6))\n",
    "\n",
    "ax.plot(hourly_df['Global_active_power'])\n",
    "ax.set_xlabel('Day')\n",
    "ax.set_ylabel('Global active power (kW)')\n",
    "ax.set_xlim(0, 336)\n",
    "\n",
    "plt.xticks(np.arange(0, 360, 24), ['2006-12-17', '2006-12-18', '2006-12-19', '2006-12-20', '2006-12-21', '2006-12-22', '2006-12-23', '2006-12-24', '2006-12-25', '2006-12-26', '2006-12-27', '2006-12-28', '2006-12-29', '2006-12-30', '2006-12-31'])\n",
    "\n",
    "fig.autofmt_xdate()\n",
    "plt.tight_layout()\n",
    "\n",
    "plt.savefig(r'C:\\Users\\crist\\OneDrive\\Escritorio\\archivos_MDD\\Proyecto_Final\\Imagen2.png', dpi=300)\n"
   ]
  },
  {
   "cell_type": "code",
   "execution_count": null,
   "metadata": {},
   "outputs": [],
   "source": [
    "\n",
    "# Guardar el DataFrame ya procesado\n",
    "hourly_df.to_csv(r'C:\\Users\\crist\\OneDrive\\Escritorio\\archivos_MDD\\Proyecto_Final\\household_power_consumption-proce.txt', header=True, index=False)\n",
    "hourly_df\n"
   ]
  },
  {
   "cell_type": "code",
   "execution_count": null,
   "metadata": {},
   "outputs": [],
   "source": [
    "\n",
    "hourly_df.describe().transpose()\n",
    "\n",
    "# Se elimina la columna 'Submetering_1' por su bajo aporte estadístico\n",
    "hourly_df = hourly_df.drop(['Sub_metering_1'], axis=1)\n",
    "hourly_df.head()"
   ]
  }
 ],
 "metadata": {
  "language_info": {
   "name": "python"
  },
  "orig_nbformat": 4
 },
 "nbformat": 4,
 "nbformat_minor": 2
}
